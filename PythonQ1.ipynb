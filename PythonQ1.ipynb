{
  "nbformat": 4,
  "nbformat_minor": 0,
  "metadata": {
    "colab": {
      "provenance": [],
      "authorship_tag": "ABX9TyPyk2WYZ2UWC9nVoOCBgm23",
      "include_colab_link": true
    },
    "kernelspec": {
      "name": "python3",
      "display_name": "Python 3"
    },
    "language_info": {
      "name": "python"
    }
  },
  "cells": [
    {
      "cell_type": "markdown",
      "metadata": {
        "id": "view-in-github",
        "colab_type": "text"
      },
      "source": [
        "<a href=\"https://colab.research.google.com/github/biswaranjandash/PlacementAssignment_Biswaranjan-dash/blob/Python/PythonQ1.ipynb\" target=\"_parent\"><img src=\"https://colab.research.google.com/assets/colab-badge.svg\" alt=\"Open In Colab\"/></a>"
      ]
    },
    {
      "cell_type": "code",
      "execution_count": 3,
      "metadata": {
        "colab": {
          "base_uri": "https://localhost:8080/"
        },
        "id": "3oiBKzWrrgYp",
        "outputId": "3917d18a-d0b2-427c-b20e-2a945b56462f"
      },
      "outputs": [
        {
          "output_type": "stream",
          "name": "stdout",
          "text": [
            "5\n",
            "3\n",
            "6\n"
          ]
        }
      ],
      "source": [
        "def highest_frequency_word_length(string):\n",
        "    words = string.split()\n",
        "    word_count = {}\n",
        "    \n",
        "    for word in words:\n",
        "        if word in word_count:\n",
        "            word_count[word] += 1\n",
        "        else:\n",
        "            word_count[word] = 1\n",
        "    \n",
        "    max_frequency = max(word_count.values())\n",
        "    \n",
        "    max_frequency_words = [word for word, count in word_count.items() if count == max_frequency]\n",
        "    \n",
        "    highest_frequency_word = max_frequency_words[0]\n",
        "    \n",
        "    return len(highest_frequency_word)\n",
        "\n",
        "\n",
        "# Test case 1\n",
        "string = \"write write write your name name in capital letters\"\n",
        "print(highest_frequency_word_length(string))  # Output: 5\n",
        "\n",
        "# Test case 2\n",
        "string = \"the quick brown fox jumps over the lazy dog\"\n",
        "print(highest_frequency_word_length(string))  # Output: 3\n",
        "\n",
        "# Test case 3\n",
        "string = \"apple apple watermelon watermelon banana banana banana\"\n",
        "print(highest_frequency_word_length(string))  # Output: 6\n"
      ]
    },
    {
      "cell_type": "code",
      "source": [
        "#Explanation:\n",
        "\n",
        "#1.The highest_frequency_word_length function takes a string as input.\n",
        "#2.It splits the string into a list of words using the split() method.\n",
        "#3.It creates an empty dictionary word_count to store the frequency of each word.\n",
        "#4.It iterates over each word in the list and updates the frequency count in the word_count dictionary.\n",
        "#5.After counting the frequencies, it finds the maximum frequency using the max() function on the values of the word_count dictionary.\n",
        "#6.It creates a list max_frequency_words to store the words with the maximum frequency.\n",
        "#7.It iterates over the word_count dictionary and adds the words with the maximum frequency to the max_frequency_words list.\n",
        "#8.It selects the first word from the max_frequency_words list as the highest frequency word.\n",
        "#9.Finally, it returns the length of the highest frequency word.\n",
        "\n",
        "#In the provided test cases:\n",
        "#Test case 1: The word \"write\" has the highest frequency (3), and its length is 5.\n",
        "#Test case 2: The words \"the\"  have the highest frequency (2), and its length of 4, \n",
        "#Test case 3: The word \"banana\" has the highest frequency (3), and its length is 6.\n"
      ],
      "metadata": {
        "id": "9I0hwCMetgB6"
      },
      "execution_count": null,
      "outputs": []
    }
  ]
}