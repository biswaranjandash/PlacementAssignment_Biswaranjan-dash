{
  "nbformat": 4,
  "nbformat_minor": 0,
  "metadata": {
    "colab": {
      "provenance": [],
      "authorship_tag": "ABX9TyNUOYZu3WlqxIgoFrESNEqj",
      "include_colab_link": true
    },
    "kernelspec": {
      "name": "python3",
      "display_name": "Python 3"
    },
    "language_info": {
      "name": "python"
    }
  },
  "cells": [
    {
      "cell_type": "markdown",
      "metadata": {
        "id": "view-in-github",
        "colab_type": "text"
      },
      "source": [
        "<a href=\"https://colab.research.google.com/github/biswaranjandash/PlacementAssignment_Biswaranjan-dash/blob/Python/PythonQ8.ipynb\" target=\"_parent\"><img src=\"https://colab.research.google.com/assets/colab-badge.svg\" alt=\"Open In Colab\"/></a>"
      ]
    },
    {
      "cell_type": "code",
      "source": [
        "import requests\n",
        "import matplotlib.pyplot as plt\n",
        "\n",
        "# Step 1: Fetch the data from the TVMaze API\n",
        "url = \"http://api.tvmaze.com/singlesearch/shows?q=westworld&embed=episodes\"\n",
        "response = requests.get(url)\n",
        "data = response.json()\n",
        "\n",
        "# Step 2: Extract required information from the data\n",
        "\n",
        "# 2.1: Get all overall ratings for each season\n",
        "season_ratings = {}  # Dictionary to store season ratings\n",
        "\n",
        "# Iterate over episodes\n",
        "for episode in data['_embedded']['episodes']:\n",
        "    season = episode['season']\n",
        "    rating = float(episode['rating']['average'])\n",
        "\n",
        "    # Add overall rating for the season\n",
        "    if season in season_ratings:\n",
        "        season_ratings[season].append(rating)\n",
        "    else:\n",
        "        season_ratings[season] = [rating]\n",
        "\n",
        "# Step 3: Generate a plot to compare ratings for all seasons\n",
        "\n",
        "# Extract seasons and their ratings\n",
        "seasons = sorted(season_ratings.keys())\n",
        "ratings = [sum(season_ratings[season]) / len(season_ratings[season]) for season in seasons]\n",
        "\n",
        "# Plotting\n",
        "plt.bar(seasons, ratings)\n",
        "plt.xlabel('Season')\n",
        "plt.ylabel('Average Rating')\n",
        "plt.title('Average Ratings for Each Season')\n",
        "plt.show()\n"
      ],
      "metadata": {
        "colab": {
          "base_uri": "https://localhost:8080/",
          "height": 472
        },
        "id": "cCzblDDre0wD",
        "outputId": "98a624e3-9066-49de-eeb9-27f5cb47713c"
      },
      "execution_count": 3,
      "outputs": [
        {
          "output_type": "display_data",
          "data": {
            "text/plain": [
              "<Figure size 640x480 with 1 Axes>"
            ],
            "image/png": "[encoded data removed]"
          },
          "metadata": {}
        }
      ]
    },
    {
      "cell_type": "code",
      "source": [
        "\n",
        "\n",
        "\n",
        "# Step 1: Extract required information from the data\n",
        "\n",
        "# 1.1: Get all episode names with an average rating > 8 for every season\n",
        "high_rated_episodes = []\n",
        "for episode in data['_embedded']['episodes']:\n",
        "    episode_name = episode['name']\n",
        "    average_rating = episode['rating']['average']\n",
        "\n",
        "    if average_rating and float(average_rating) > 8:\n",
        "        high_rated_episodes.append(episode_name)\n",
        "\n",
        "# Step 2: Print the episode names with high ratings for every season\n",
        "for episode_name in high_rated_episodes:\n",
        "    print(episode_name)\n"
      ],
      "metadata": {
        "colab": {
          "base_uri": "https://localhost:8080/"
        },
        "id": "62uJNWBWgDc6",
        "outputId": "5190c965-7dbf-4146-ed8d-3700b5c75e96"
      },
      "execution_count": 7,
      "outputs": [
        {
          "output_type": "stream",
          "name": "stdout",
          "text": [
            "Trompe L'Oeil\n",
            "The Well-Tempered Clavier\n",
            "The Bicameral Mind\n",
            "Kiksuya\n",
            "Vanishing Point\n",
            "The Passenger\n"
          ]
        }
      ]
    },
    {
      "cell_type": "code",
      "source": [
        "\n",
        "\n",
        "# Step 1: Extract required information from the data\n",
        "\n",
        "# 1.1: Get all episode names that aired before May 2019\n",
        "before_2019_episodes = []\n",
        "for episode in data['_embedded']['episodes']:\n",
        "    episode_name = episode['name']\n",
        "    airdate = episode['airdate']\n",
        "\n",
        "    if airdate and airdate < '2019-05':\n",
        "        before_2019_episodes.append(episode_name)\n",
        "\n",
        "# Step 2: Print the episode names that aired before May 2019\n",
        "for episode_name in before_2019_episodes:\n",
        "    print(episode_name)\n"
      ],
      "metadata": {
        "colab": {
          "base_uri": "https://localhost:8080/"
        },
        "id": "fopCUXBHiGAr",
        "outputId": "bb99124a-b044-4870-ff4c-1ac76e9d750a"
      },
      "execution_count": 9,
      "outputs": [
        {
          "output_type": "stream",
          "name": "stdout",
          "text": [
            "The Original\n",
            "Chestnut\n",
            "The Stray\n",
            "Dissonance Theory\n",
            "Contrapasso\n",
            "The Adversary\n",
            "Trompe L'Oeil\n",
            "Trace Decay\n",
            "The Well-Tempered Clavier\n",
            "The Bicameral Mind\n",
            "Journey Into Night\n",
            "Reunion\n",
            "Virtù e Fortuna\n",
            "The Riddle of the Sphinx\n",
            "Akane No Mai\n",
            "Phase Space\n",
            "Les Écorchés\n",
            "Kiksuya\n",
            "Vanishing Point\n",
            "The Passenger\n"
          ]
        }
      ]
    },
    {
      "cell_type": "code",
      "source": [
        "\n",
        "# Step 1: Extract required information from the data\n",
        "\n",
        "# 1.1: Initialize dictionaries to store highest and lowest rated episodes for each season\n",
        "highest_rated_episodes = {}\n",
        "lowest_rated_episodes = {}\n",
        "\n",
        "# Iterate over episodes\n",
        "for episode in data['_embedded']['episodes']:\n",
        "    season = episode['season']\n",
        "    episode_name = episode['name']\n",
        "    rating = float(episode['rating']['average'])\n",
        "\n",
        "    # Check if season is already present in dictionaries\n",
        "    if season in highest_rated_episodes:\n",
        "        # Update highest rated episode if current rating is higher\n",
        "        if rating > highest_rated_episodes[season]['rating']:\n",
        "            highest_rated_episodes[season] = {'episode_name': episode_name, 'rating': rating}\n",
        "        # Update lowest rated episode if current rating is lower\n",
        "        if rating < lowest_rated_episodes[season]['rating']:\n",
        "            lowest_rated_episodes[season] = {'episode_name': episode_name, 'rating': rating}\n",
        "    else:\n",
        "        # Initialize highest and lowest rated episodes for the season\n",
        "        highest_rated_episodes[season] = {'episode_name': episode_name, 'rating': rating}\n",
        "        lowest_rated_episodes[season] = {'episode_name': episode_name, 'rating': rating}\n",
        "\n",
        "# Step 2: Print the episode names with the highest and lowest ratings for each season\n",
        "for season in highest_rated_episodes:\n",
        "    print(f\"Season {season} Highest-rated Episode:\")\n",
        "    print(highest_rated_episodes[season]['episode_name'])\n",
        "    print(f\"Highest Rating: {highest_rated_episodes[season]['rating']}\")\n",
        "    print()\n",
        "\n",
        "    print(f\"Season {season} Lowest-rated Episode:\")\n",
        "    print(lowest_rated_episodes[season]['episode_name'])\n",
        "    print(f\"Lowest Rating: {lowest_rated_episodes[season]['rating']}\")\n",
        "    print()\n"
      ],
      "metadata": {
        "colab": {
          "base_uri": "https://localhost:8080/"
        },
        "id": "SYxBaX9sjOTV",
        "outputId": "8f71ba57-b803-45dc-c214-268bb483c80d"
      },
      "execution_count": 11,
      "outputs": [
        {
          "output_type": "stream",
          "name": "stdout",
          "text": [
            "Season 1 Highest-rated Episode:\n",
            "The Bicameral Mind\n",
            "Highest Rating: 8.7\n",
            "\n",
            "Season 1 Lowest-rated Episode:\n",
            "The Stray\n",
            "Lowest Rating: 7.6\n",
            "\n",
            "Season 2 Highest-rated Episode:\n",
            "Kiksuya\n",
            "Highest Rating: 8.7\n",
            "\n",
            "Season 2 Lowest-rated Episode:\n",
            "Akane No Mai\n",
            "Lowest Rating: 7.6\n",
            "\n",
            "Season 3 Highest-rated Episode:\n",
            "Parce Domine\n",
            "Highest Rating: 8.0\n",
            "\n",
            "Season 3 Lowest-rated Episode:\n",
            "Decoherence\n",
            "Lowest Rating: 7.5\n",
            "\n",
            "Season 4 Highest-rated Episode:\n",
            "Zhuangzi\n",
            "Highest Rating: 7.8\n",
            "\n",
            "Season 4 Lowest-rated Episode:\n",
            "The Auguries\n",
            "Lowest Rating: 7.1\n",
            "\n"
          ]
        }
      ]
    },
    {
      "cell_type": "code",
      "source": [
        "\n",
        "# Step 1: Extract required information from the data\n",
        "\n",
        "# 1.1: Initialize dictionary to store most popular episodes' summaries for each season\n",
        "most_popular_episodes = {}\n",
        "\n",
        "# Iterate over episodes\n",
        "for episode in data['_embedded']['episodes']:\n",
        "    season = episode['season']\n",
        "    episode_name = episode['name']\n",
        "    rating = float(episode['rating']['average'])\n",
        "    summary = episode['summary']\n",
        "\n",
        "    # Check if season is already present in dictionary\n",
        "    if season in most_popular_episodes:\n",
        "        # Update episode summary if current rating is higher\n",
        "        if rating > most_popular_episodes[season]['rating']:\n",
        "            most_popular_episodes[season] = {'episode_name': episode_name, 'rating': rating, 'summary': summary}\n",
        "    else:\n",
        "        # Initialize most popular episode for the season\n",
        "        most_popular_episodes[season] = {'episode_name': episode_name, 'rating': rating, 'summary': summary}\n",
        "\n",
        "# Step 2: Print the summary for the most popular episode in each season\n",
        "for season in most_popular_episodes:\n",
        "    print(f\"Season {season} Most Popular Episode Summary:\")\n",
        "    print(most_popular_episodes[season]['summary'])\n",
        "    print()\n"
      ],
      "metadata": {
        "colab": {
          "base_uri": "https://localhost:8080/"
        },
        "id": "grNvfjIokq16",
        "outputId": "7a9b2eb9-03f9-4ebd-933e-da9aa5a60fab"
      },
      "execution_count": 12,
      "outputs": [
        {
          "output_type": "stream",
          "name": "stdout",
          "text": [
            "Season 1 Most Popular Episode Summary:\n",
            "<p>Delores finds out the truth about William's fate. Meanwhile, Maeve organizes an escape plan, only to discover that someone else is pulling the strings. And Robert plays the final piece in his grand narrative.</p>\n",
            "\n",
            "Season 2 Most Popular Episode Summary:\n",
            "<p>Another of Westworld's Host revolutionaries is revealed. Meanwhile, Emily finds the Man and convinces the Ghost Nation to hand him over to her to ensure his suffering.</p>\n",
            "\n",
            "Season 3 Most Popular Episode Summary:\n",
            "<p>If you're stuck in a loop, try walking in a straight line.</p>\n",
            "\n",
            "Season 4 Most Popular Episode Summary:\n",
            "<p>God is bored.</p>\n",
            "\n"
          ]
        }
      ]
    },
    {
      "cell_type": "code",
      "source": [],
      "metadata": {
        "id": "QxVQvjdjqny2"
      },
      "execution_count": null,
      "outputs": []
    }
  ]
}