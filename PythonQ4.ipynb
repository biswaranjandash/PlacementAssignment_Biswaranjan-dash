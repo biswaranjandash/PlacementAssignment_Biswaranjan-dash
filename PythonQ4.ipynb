{
  "nbformat": 4,
  "nbformat_minor": 0,
  "metadata": {
    "colab": {
      "provenance": [],
      "mount_file_id": "1appKP2J0E557eRacBRCB7wJ-fu9ONkrF",
      "authorship_tag": "ABX9TyO7PolNMEa5/rVtt3oqwIFg",
      "include_colab_link": true
    },
    "kernelspec": {
      "name": "python3",
      "display_name": "Python 3"
    },
    "language_info": {
      "name": "python"
    }
  },
  "cells": [
    {
      "cell_type": "markdown",
      "metadata": {
        "id": "view-in-github",
        "colab_type": "text"
      },
      "source": [
        "<a href=\"https://colab.research.google.com/github/biswaranjandash/PlacementAssignment_Biswaranjan-dash/blob/Python/PythonQ4.ipynb\" target=\"_parent\"><img src=\"https://colab.research.google.com/assets/colab-badge.svg\" alt=\"Open In Colab\"/></a>"
      ]
    },
    {
      "cell_type": "code",
      "source": [
        "import requests\n",
        "import csv\n"
      ],
      "metadata": {
        "id": "U_5JEY5OFZA2"
      },
      "execution_count": 10,
      "outputs": []
    },
    {
      "cell_type": "code",
      "source": [
        "# Define the URL to download the data\n",
        "url = 'https://data.nasa.gov/resource/y77d-th95.json'\n",
        "\n",
        "# Send a GET request to download the data\n",
        "response = requests.get(url)\n"
      ],
      "metadata": {
        "id": "vUrgJDUZ8C4_"
      },
      "execution_count": 2,
      "outputs": []
    },
    {
      "cell_type": "code",
      "source": [
        "# Check if the request was successful\n",
        "if response.status_code == 200:\n",
        "    # Retrieve the data\n",
        "    data = response.json()\n",
        "    \n",
        "    # Check if the data is not empty\n",
        "    if data:\n",
        "        # Specify the output CSV file path\n",
        "        output_csv = 'output.csv'\n",
        "        \n",
        "        # Specify the data attributes to extract\n",
        "        attributes = [\n",
        "            'name',\n",
        "            'id',\n",
        "            'nametype',\n",
        "            'recclass',\n",
        "            'mass',\n",
        "            'year',\n",
        "            'reclat',\n",
        "            'reclong',\n",
        "            'geolocation'\n",
        "        ]\n",
        "        \n",
        "        # Open the CSV file in write mode\n",
        "        with open(output_csv, 'w', newline='') as file:\n",
        "            # Create a CSV writer\n",
        "            writer = csv.writer(file)\n",
        "            \n",
        "            # Write the header row\n",
        "            writer.writerow(attributes)\n",
        "            \n",
        "            # Write the data rows\n",
        "            for item in data:\n",
        "                # Extract the desired attributes from each item\n",
        "                row = [\n",
        "                    item.get('name', ''),\n",
        "                    item.get('id', ''),\n",
        "                    item.get('nametype', ''),\n",
        "                    item.get('recclass', ''),\n",
        "                    item.get('mass', ''),\n",
        "                    item.get('year', ''),\n",
        "                    item.get('reclat', ''),\n",
        "                    item.get('reclong', ''),\n",
        "                    item['geolocation']['coordinates'] if 'geolocation' in item else ''\n",
        "                ]\n",
        "                \n",
        "                # Write the row to the CSV file\n",
        "                writer.writerow(row)\n",
        "\n",
        "                \n",
        "        print(f\"Data saved as '{output_csv}' successfully.\")\n",
        "    else:\n",
        "        print(\"The downloaded data is empty.\")\n",
        "else:\n",
        "    print(\"Failed to download data. Status code:\", response.status_code)\n",
        "\n",
        "\n",
        "        "
      ],
      "metadata": {
        "id": "gY1Miy2Y8Jr3",
        "outputId": "434d585c-57a7-4087-f690-ed7641104bdc",
        "colab": {
          "base_uri": "https://localhost:8080/"
        }
      },
      "execution_count": 9,
      "outputs": [
        {
          "output_type": "stream",
          "name": "stdout",
          "text": [
            "Data saved as 'output.csv' successfully.\n"
          ]
        }
      ]
    }
  ]
}