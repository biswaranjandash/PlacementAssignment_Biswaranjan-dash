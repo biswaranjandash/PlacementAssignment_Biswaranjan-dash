{
  "nbformat": 4,
  "nbformat_minor": 0,
  "metadata": {
    "colab": {
      "provenance": [],
      "authorship_tag": "ABX9TyMUmIP25ww98XRpXFLndYlH",
      "include_colab_link": true
    },
    "kernelspec": {
      "name": "python3",
      "display_name": "Python 3"
    },
    "language_info": {
      "name": "python"
    }
  },
  "cells": [
    {
      "cell_type": "markdown",
      "metadata": {
        "id": "view-in-github",
        "colab_type": "text"
      },
      "source": [
        "<a href=\"https://colab.research.google.com/github/biswaranjandash/PlacementAssignment_Biswaranjan-dash/blob/Python/PythonQ10.ipynb\" target=\"_parent\"><img src=\"https://colab.research.google.com/assets/colab-badge.svg\" alt=\"Open In Colab\"/></a>"
      ]
    },
    {
      "cell_type": "code",
      "execution_count": 7,
      "metadata": {
        "colab": {
          "base_uri": "https://localhost:8080/"
        },
        "id": "d-ODKS0e6eYA",
        "outputId": "f0ba27df-d909-4aa8-f90b-18b11e1531e5"
      },
      "outputs": [
        {
          "output_type": "stream",
          "name": "stderr",
          "text": [
            "[nltk_data] Downloading package punkt to /root/nltk_data...\n",
            "[nltk_data]   Package punkt is already up-to-date!\n",
            "[nltk_data] Downloading package averaged_perceptron_tagger to\n",
            "[nltk_data]     /root/nltk_data...\n",
            "[nltk_data]   Package averaged_perceptron_tagger is already up-to-\n",
            "[nltk_data]       date!\n"
          ]
        }
      ],
      "source": [
        "\n",
        "import nltk\n",
        "nltk.download('punkt')\n",
        "nltk.download('averaged_perceptron_tagger')\n",
        "from nltk.tokenize import word_tokenize, sent_tokenize\n",
        "from nltk.tag import pos_tag\n",
        "\n",
        "\n",
        "def count_pos_tags(text):\n",
        "    # Tokenize the text into sentences\n",
        "    sentences = sent_tokenize(text)\n",
        "\n",
        "    # Initialize count dictionaries for verbs, nouns, pronouns, and adjectives\n",
        "    verb_count = 0\n",
        "    noun_count = 0\n",
        "    pronoun_count = 0\n",
        "    adjective_count = 0\n",
        "\n",
        "    # Iterate over each sentence\n",
        "    for sentence in sentences:\n",
        "        # Tokenize the sentence into words and tag the parts of speech\n",
        "        words = word_tokenize(sentence)\n",
        "        tagged_words = pos_tag(words)\n",
        "\n",
        "        # Count the occurrences of each part of speech\n",
        "        for word, tag in tagged_words:\n",
        "            if tag.startswith('VB'):  # Verbs\n",
        "                verb_count += 1\n",
        "            elif tag.startswith('NN'):  # Nouns\n",
        "                noun_count += 1\n",
        "            elif tag.startswith('PRP'):  # Pronouns\n",
        "                pronoun_count += 1\n",
        "            elif tag.startswith('JJ'):  # Adjectives\n",
        "                adjective_count += 1\n",
        "\n",
        "    # Create a dictionary with the counts\n",
        "    pos_counts = {\n",
        "        'Verbs': verb_count,\n",
        "        'Nouns': noun_count,\n",
        "        'Pronouns': pronoun_count,\n",
        "        'Adjectives': adjective_count\n",
        "    }\n",
        "\n",
        "    return pos_counts\n",
        "\n",
        "\n"
      ]
    },
    {
      "cell_type": "code",
      "source": [
        "# Test case 1\n",
        "text1 = \"The sun is shining brightly in the sky.\"\n",
        "result1 = count_pos_tags(text1)\n",
        "print(\"Counts for Test Case 1:\")\n",
        "print(result1)"
      ],
      "metadata": {
        "colab": {
          "base_uri": "https://localhost:8080/"
        },
        "id": "6eLzf4dR6rwh",
        "outputId": "baa882ca-a725-4d74-d09b-0dcbc36ac65f"
      },
      "execution_count": 6,
      "outputs": [
        {
          "output_type": "stream",
          "name": "stdout",
          "text": [
            "Counts for Test Case 1:\n",
            "{'Verbs': 2, 'Nouns': 2, 'Pronouns': 0, 'Adjectives': 0}\n"
          ]
        }
      ]
    },
    {
      "cell_type": "code",
      "source": [
        "# Test case 2\n",
        "text2 = \"I am eating an apple\"\n",
        "result2 = count_pos_tags(text2)\n",
        "print(\"Counts for Test Case 2:\")\n",
        "print(result2)\n"
      ],
      "metadata": {
        "colab": {
          "base_uri": "https://localhost:8080/"
        },
        "id": "nzov4-Md8K_f",
        "outputId": "7ab6a8d0-0bb1-40ff-91b7-fbba2d077431"
      },
      "execution_count": 5,
      "outputs": [
        {
          "output_type": "stream",
          "name": "stdout",
          "text": [
            "Counts for Test Case 2:\n",
            "{'Verbs': 2, 'Nouns': 1, 'Pronouns': 1, 'Adjectives': 0}\n"
          ]
        }
      ]
    },
    {
      "cell_type": "code",
      "source": [],
      "metadata": {
        "id": "oPl0q-tL8i1v"
      },
      "execution_count": null,
      "outputs": []
    }
  ]
}