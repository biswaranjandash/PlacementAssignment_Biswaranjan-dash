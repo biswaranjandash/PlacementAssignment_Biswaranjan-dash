{
  "nbformat": 4,
  "nbformat_minor": 0,
  "metadata": {
    "colab": {
      "provenance": [],
      "authorship_tag": "ABX9TyNfbL4cbJPlyjG3JAYEK+OI",
      "include_colab_link": true
    },
    "kernelspec": {
      "name": "python3",
      "display_name": "Python 3"
    },
    "language_info": {
      "name": "python"
    }
  },
  "cells": [
    {
      "cell_type": "markdown",
      "metadata": {
        "id": "view-in-github",
        "colab_type": "text"
      },
      "source": [
        "<a href=\"https://colab.research.google.com/github/biswaranjandash/PlacementAssignment_Biswaranjan-dash/blob/Python/PythonQ1.ipynb\" target=\"_parent\"><img src=\"https://colab.research.google.com/assets/colab-badge.svg\" alt=\"Open In Colab\"/></a>"
      ]
    },
    {
      "cell_type": "code",
      "execution_count": 6,
      "metadata": {
        "id": "3oiBKzWrrgYp"
      },
      "outputs": [],
      "source": [
        "def highest_frequency_word_length(string):\n",
        "    words = string.split()\n",
        "    word_count = {}\n",
        "    \n",
        "    for word in words:\n",
        "        if word in word_count:\n",
        "            word_count[word] += 1\n",
        "        else:\n",
        "            word_count[word] = 1\n",
        "    \n",
        "    max_frequency = max(word_count.values())\n",
        "    \n",
        "    max_frequency_words = [word for word, count in word_count.items() if count == max_frequency]\n",
        "    \n",
        "    highest_frequency_word = max_frequency_words[0]\n",
        "    \n",
        "    return len(highest_frequency_word)\n",
        "\n",
        "\n"
      ]
    },
    {
      "cell_type": "code",
      "source": [
        "# Test case 1\n",
        "string = \"write write write your name name in capital letters\"\n",
        "print(highest_frequency_word_length(string))  # Output: 5"
      ],
      "metadata": {
        "id": "D0z9rNjS4Xng",
        "outputId": "d0555f7f-d4b7-4a5c-d8f3-beeeb9027f24",
        "colab": {
          "base_uri": "https://localhost:8080/"
        }
      },
      "execution_count": 3,
      "outputs": [
        {
          "output_type": "stream",
          "name": "stdout",
          "text": [
            "5\n"
          ]
        }
      ]
    },
    {
      "cell_type": "code",
      "source": [
        "# Test case 2\n",
        "string = \"the quick brown fox jumps over the lazy dog\"\n",
        "print(highest_frequency_word_length(string))  # Output: 3\n"
      ],
      "metadata": {
        "id": "ZgvaflVk4XAr",
        "outputId": "2f5475c4-38bb-4ef2-a18d-1c79d11d70e9",
        "colab": {
          "base_uri": "https://localhost:8080/"
        }
      },
      "execution_count": 4,
      "outputs": [
        {
          "output_type": "stream",
          "name": "stdout",
          "text": [
            "3\n"
          ]
        }
      ]
    },
    {
      "cell_type": "code",
      "source": [
        "\n",
        "# Test case 3\n",
        "string = \"apple apple watermelon watermelon banana banana banana\"\n",
        "print(highest_frequency_word_length(string))  # Output: 6"
      ],
      "metadata": {
        "id": "yN_2ZPBt4WxW",
        "outputId": "8df409a1-2461-4883-b011-080212338e22",
        "colab": {
          "base_uri": "https://localhost:8080/"
        }
      },
      "execution_count": 5,
      "outputs": [
        {
          "output_type": "stream",
          "name": "stdout",
          "text": [
            "6\n"
          ]
        }
      ]
    },
    {
      "cell_type": "code",
      "source": [
        "#Explanation:\n",
        "\n",
        "#1.The highest_frequency_word_length function takes a string as input.\n",
        "#2.It splits the string into a list of words using the split() method.\n",
        "#3.It creates an empty dictionary word_count to store the frequency of each word.\n",
        "#4.It iterates over each word in the list and updates the frequency count in the word_count dictionary.\n",
        "#5.After counting the frequencies, it finds the maximum frequency using the max() function on the values of the word_count dictionary.\n",
        "#6.It creates a list max_frequency_words to store the words with the maximum frequency.\n",
        "#7.It iterates over the word_count dictionary and adds the words with the maximum frequency to the max_frequency_words list.\n",
        "#8.It selects the first word from the max_frequency_words list as the highest frequency word.\n",
        "#9.Finally, it returns the length of the highest frequency word.\n",
        "\n",
        "#In the provided test cases:\n",
        "#Test case 1: The word \"write\" has the highest frequency (3), and its length is 5.\n",
        "#Test case 2: The words \"the\"  have the highest frequency (2), and its length of 3, \n",
        "#Test case 3: The word \"banana\" has the highest frequency (3), and its length is 6.\n"
      ],
      "metadata": {
        "id": "9I0hwCMetgB6"
      },
      "execution_count": null,
      "outputs": []
    },
    {
      "cell_type": "code",
      "source": [],
      "metadata": {
        "id": "Dq9bS2cFzwwc"
      },
      "execution_count": null,
      "outputs": []
    }
  ]
}