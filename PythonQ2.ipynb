{
  "nbformat": 4,
  "nbformat_minor": 0,
  "metadata": {
    "colab": {
      "provenance": [],
      "authorship_tag": "ABX9TyOENJgO8qyx9XLittdCGD2I",
      "include_colab_link": true
    },
    "kernelspec": {
      "name": "python3",
      "display_name": "Python 3"
    },
    "language_info": {
      "name": "python"
    }
  },
  "cells": [
    {
      "cell_type": "markdown",
      "metadata": {
        "id": "view-in-github",
        "colab_type": "text"
      },
      "source": [
        "<a href=\"https://colab.research.google.com/github/biswaranjandash/PlacementAssignment_Biswaranjan-dash/blob/Python/PythonQ2.ipynb\" target=\"_parent\"><img src=\"https://colab.research.google.com/assets/colab-badge.svg\" alt=\"Open In Colab\"/></a>"
      ]
    },
    {
      "cell_type": "code",
      "execution_count": 7,
      "metadata": {
        "colab": {
          "base_uri": "https://localhost:8080/"
        },
        "id": "FU7ygJG32GdI",
        "outputId": "f4a83ca3-feb1-4cfc-b5fc-3462cac4ee65"
      },
      "outputs": [
        {
          "output_type": "stream",
          "name": "stdout",
          "text": [
            "YES\n",
            "YES\n",
            "YES\n",
            "NO\n"
          ]
        }
      ],
      "source": [
        "from collections import Counter\n",
        "\n",
        "def is_valid_string(s):\n",
        "    freq = Counter(s)  # Count the frequency of each character\n",
        "    \n",
        "    # Count the frequency counts\n",
        "    freq_counts = Counter(freq.values())\n",
        "    \n",
        "    if len(freq_counts) == 1:\n",
        "        return \"YES\"  # All characters have the same frequency\n",
        "    \n",
        "    if len(freq_counts) == 2:\n",
        "        # Check if we can remove one character and make all others have the same frequency\n",
        "        max_freq, min_freq = max(freq_counts.keys()), min(freq_counts.keys())\n",
        "        if (freq_counts[max_freq] == 1 and max_freq - 1 == min_freq) or (freq_counts[min_freq] == 1 and min_freq == 1):\n",
        "            return \"YES\"\n",
        "    \n",
        "    return \"NO\"  # The string is not valid\n",
        "\n",
        "# Example test cases\n",
        "print(is_valid_string(\"abcabc\"))  # Output: YES\n",
        "print(is_valid_string(\"abccba\"))  # Output: YES\n",
        "print(is_valid_string(\"aabbc\"))   # Output: YES\n",
        "print(is_valid_string(\"aabbcd\"))  # Output: NO\n"
      ]
    },
    {
      "cell_type": "code",
      "source": [
        "#Explanation of additional test cases:\n",
        "\n",
        "#Test case: \"abcabc\"\n",
        "\n",
        "#The frequency count for each character is {'a': 2, 'b': 2, 'c': 2}.\n",
        "#All characters have the same frequency, so it is a valid string. The output is \"YES\".\n",
        "#Test case: \"abccba\"\n",
        "\n",
        "#The frequency count for each character is {'a': 2, 'b': 2, 'c': 2}.\n",
        "#All characters have the same frequency, so it is a valid string. The output is \"YES\".\n",
        "#Test case: \"aabbc\"\n",
        "\n",
        "#The frequency count for each character is {'a': 2, 'b': 2, 'c': 1}.\n",
        "#There are two distinct frequencies, but one of them is only one occurrence.\n",
        "#We can remove 'c' to make all characters have the same frequency: {'a': 2, 'b': 2}.\n",
        "#After removing 'c', all remaining characters have the same frequency, so it is a valid string. The output is \"YES\".\n",
        "#Test case: \"aabbcd\"\n",
        "\n",
        "#The frequency count for each character is {'a': 2, 'b': 2, 'c': 1, 'd': 1}.\n",
        "#There are three distinct frequencies, which means no character can be removed to make all others have the same frequency.\n",
        "#The string is not valid. The output is \"NO\"."
      ],
      "metadata": {
        "id": "ypBZ20ON5-pb"
      },
      "execution_count": 8,
      "outputs": []
    },
    {
      "cell_type": "code",
      "source": [],
      "metadata": {
        "id": "P6hl_jx19fWa"
      },
      "execution_count": null,
      "outputs": []
    }
  ]
}