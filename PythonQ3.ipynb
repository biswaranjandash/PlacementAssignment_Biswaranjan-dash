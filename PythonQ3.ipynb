{
  "nbformat": 4,
  "nbformat_minor": 0,
  "metadata": {
    "colab": {
      "provenance": [],
      "authorship_tag": "ABX9TyMB9tlPuLiKBaXOqSO8ttm9",
      "include_colab_link": true
    },
    "kernelspec": {
      "name": "python3",
      "display_name": "Python 3"
    },
    "language_info": {
      "name": "python"
    }
  },
  "cells": [
    {
      "cell_type": "markdown",
      "metadata": {
        "id": "view-in-github",
        "colab_type": "text"
      },
      "source": [
        "<a href=\"https://colab.research.google.com/github/biswaranjandash/PlacementAssignment_Biswaranjan-dash/blob/Python/PythonQ3.ipynb\" target=\"_parent\"><img src=\"https://colab.research.google.com/assets/colab-badge.svg\" alt=\"Open In Colab\"/></a>"
      ]
    },
    {
      "cell_type": "code",
      "execution_count": 1,
      "metadata": {
        "colab": {
          "base_uri": "https://localhost:8080/"
        },
        "id": "6K00HUEp-bXp",
        "outputId": "faa8887a-5c92-427a-fe51-ee5829437ed2"
      },
      "outputs": [
        {
          "output_type": "stream",
          "name": "stdout",
          "text": [
            "Data conversion and saving to Excel completed successfully!\n"
          ]
        }
      ],
      "source": [
        "import requests\n",
        "import json\n",
        "import pandas as pd\n",
        "\n",
        "def download_and_convert_data(url):\n",
        "    # Download the data from the provided link\n",
        "    response = requests.get(url)\n",
        "    data = response.json()\n",
        "\n",
        "    # Extract the required attributes from the data\n",
        "    extracted_data = []\n",
        "    for pokemon in data['pokemon']:\n",
        "        attributes = {\n",
        "            'id': pokemon['id'],\n",
        "            'num': pokemon['num'],\n",
        "            'name': pokemon['name'],\n",
        "            'img': pokemon['img'],\n",
        "            'type': \", \".join(pokemon['type']),\n",
        "            'height': pokemon['height'],\n",
        "            'weight': pokemon['weight'],\n",
        "            'candy': pokemon.get('candy', \"\"),\n",
        "            'candy_count': pokemon.get('candy_count', \"\"),\n",
        "            'egg': pokemon.get('egg', \"\"),\n",
        "            'spawn_chance': pokemon.get('spawn_chance', \"\"),\n",
        "            'avg_spawns': pokemon.get('avg_spawns', \"\"),\n",
        "            'spawn_time': pokemon.get('spawn_time', \"\"),\n",
        "            'weakness': \", \".join(pokemon['weaknesses']),\n",
        "            'next_evolution': [evolution['name'] for evolution in pokemon.get('next_evolution', [])],\n",
        "            'prev_evolution': [evolution['name'] for evolution in pokemon.get('prev_evolution', [])]\n",
        "        }\n",
        "        extracted_data.append(attributes)\n",
        "\n",
        "    # Convert the extracted data into a pandas DataFrame\n",
        "    df = pd.DataFrame(extracted_data)\n",
        "\n",
        "    # Save the DataFrame to Excel format\n",
        "    df.to_excel('pokemon_data.xlsx', index=False)\n",
        "\n",
        "    print(\"Data conversion and saving to Excel completed successfully!\")\n",
        "\n",
        "\n",
        "# Provide the URL of the data\n",
        "url = 'https://raw.githubusercontent.com/Biuni/PokemonGO-Pokedex/master/pokedex.json'\n",
        "\n",
        "# Call the function to download, convert, and save the data\n",
        "download_and_convert_data(url)\n"
      ]
    },
    {
      "cell_type": "code",
      "source": [],
      "metadata": {
        "id": "1U7A6aqo-gGe"
      },
      "execution_count": null,
      "outputs": []
    }
  ]
}